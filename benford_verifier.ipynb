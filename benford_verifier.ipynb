{
  "nbformat": 4,
  "nbformat_minor": 0,
  "metadata": {
    "colab": {
      "name": "benford_verifier.ipynb",
      "provenance": [],
      "collapsed_sections": [],
      "authorship_tag": "ABX9TyPVu9J0ovsNgoyW8Vy9M40o",
      "include_colab_link": true
    },
    "kernelspec": {
      "name": "python3",
      "display_name": "Python 3"
    }
  },
  "cells": [
    {
      "cell_type": "markdown",
      "metadata": {
        "id": "view-in-github",
        "colab_type": "text"
      },
      "source": [
        "<a href=\"https://colab.research.google.com/github/mike-ferguson/benford/blob/main/benford_verifier.ipynb\" target=\"_parent\"><img src=\"https://colab.research.google.com/assets/colab-badge.svg\" alt=\"Open In Colab\"/></a>"
      ]
    },
    {
      "cell_type": "code",
      "metadata": {
        "id": "JuFgyXAnJCqX",
        "outputId": "ebf9b6e7-d900-49dd-f7b5-a90e128bba93",
        "colab": {
          "base_uri": "https://localhost:8080/",
          "height": 204
        }
      },
      "source": [
        "# import or generate a dataset:\n",
        "\n",
        "import pandas as pd, numpy as np\n",
        "import random\n",
        "import math \n",
        "from collections import Counter\n",
        "from scipy import stats\n",
        "\n",
        "\n",
        "# read in the dataset:\n",
        "data = pd.read_csv('nyc_data.csv', encoding= 'unicode_escape')\n",
        "\n",
        "# use this to find the columns you want to use:\n",
        "print(data.columns)\n",
        "col_wanted = \"1999-00  Actuals\"\n",
        "\n",
        "# remove NA values or values not a number.\n",
        "df = data[data[col_wanted].notna()]\n",
        "df = df[pd.to_numeric(df[col_wanted], errors='coerce').notnull()]\n",
        "df_final = df[col_wanted]\n",
        "\n",
        "# casts entries to floats and make final list\n",
        "numbers = list(df_final)\n",
        "numbers = [float(i) for i in numbers]\n",
        "numbers = [x for x in numbers if x > 0.0]\n"
      ],
      "execution_count": 182,
      "outputs": [
        {
          "output_type": "stream",
          "text": [
            "Index(['Function', 'Agency', 'Fund Type', 'FP Category', 'Fund', 'Subfund',\n",
            "       'Subfund Name', '2019-20 Estimates', '2018-19 Actuals',\n",
            "       '2017-18 Actuals', '2016-17 Actuals', '2015-16 Actuals',\n",
            "       '2014-15 Actuals', '2013-14  Actuals', '2012-13  Actuals',\n",
            "       '2011-12  Actuals', '2010-11  Actuals', '2009-10  Actuals',\n",
            "       '2008-09  Actuals', '2007-08  Actuals', '2006-07  Actuals',\n",
            "       '2005-06  Actuals', '2004-05  Actuals', '2003-04  Actuals',\n",
            "       '2002-03  Actuals', '2001-02  Actuals', '2000-01  Actuals',\n",
            "       '1999-00  Actuals', '1998-99  Actuals', '1997-98  Actuals',\n",
            "       '1996-97  Actuals', '1995-96  Actuals', '1994-95  Actuals'],\n",
            "      dtype='object')\n"
          ],
          "name": "stdout"
        }
      ]
    },
    {
      "cell_type": "code",
      "metadata": {
        "id": "LGg9ZzocSKTI",
        "outputId": "f1370ae5-896f-4a57-d978-a4446c26d954",
        "colab": {
          "base_uri": "https://localhost:8080/",
          "height": 312
        }
      },
      "source": [
        "# look at the data to see properties, like normality:\n",
        "\n",
        "from matplotlib import pyplot\n",
        "import statistics\n",
        "\n",
        "pyplot.hist(numbers)\n",
        "pyplot.show()\n",
        "\n",
        "mean = statistics.mean(numbers)\n",
        "std = statistics.stdev(numbers)\n",
        "median = statistics.median(numbers)\n",
        "print(\"Mean: \", mean)\n",
        "print(\"Standard Deviation: \", std)\n",
        "\n",
        "\n",
        "# is mean greater then median?\n",
        "if mean <= median:\n",
        "  print(\"The mean is not greateer then the median. Your distribution might be\" + \n",
        "        \"off; Benford's Law might not apply...\")\n"
      ],
      "execution_count": 183,
      "outputs": [
        {
          "output_type": "display_data",
          "data": {
            "image/png": "[encoded data removed]",
            "text/plain": [
              "<Figure size 432x288 with 1 Axes>"
            ]
          },
          "metadata": {
            "tags": [],
            "needs_background": "light"
          }
        },
        {
          "output_type": "stream",
          "text": [
            "Mean:  57542.18203125\n",
            "Standard Deviation:  550013.123517598\n"
          ],
          "name": "stdout"
        }
      ]
    },
    {
      "cell_type": "code",
      "metadata": {
        "id": "YL7k6QLWJ2PN",
        "outputId": "e77d9583-9b0a-4202-da05-978da9051608",
        "colab": {
          "base_uri": "https://localhost:8080/",
          "height": 54
        }
      },
      "source": [
        "# process the raw list:\n",
        "sig_list = ([x // (10**math.floor(math.log10(x))) for x in numbers])\n",
        "print(sig_list[0:50])\n",
        "\n",
        "# get Benford probabilities:\n",
        "def benford (digit):\n",
        "  return math.log10((digit + 1)/ digit)\n"
      ],
      "execution_count": 184,
      "outputs": [
        {
          "output_type": "stream",
          "text": [
            "[2.0, 2.0, 7.0, 5.0, 1.0, 2.0, 1.0, 1.0, 5.0, 1.0, 1.0, 4.0, 4.0, 2.0, 2.0, 7.0, 1.0, 2.0, 6.0, 1.0, 1.0, 9.0, 1.0, 2.0, 4.0, 3.0, 1.0, 8.0, 3.0, 2.0, 1.0, 4.0, 1.0, 1.0, 2.0, 4.0, 7.0, 2.0, 1.0, 8.0, 5.0, 1.0, 1.0, 1.0, 3.0, 2.0, 4.0, 8.0, 2.0, 2.0]\n"
          ],
          "name": "stdout"
        }
      ]
    },
    {
      "cell_type": "code",
      "metadata": {
        "id": "KLFWYBc9Mg4-",
        "outputId": "6d855ded-5378-4f3c-c2d8-de6f8096523a",
        "colab": {
          "base_uri": "https://localhost:8080/",
          "height": 221
        }
      },
      "source": [
        "# calculate meta-statistics:\n",
        "\n",
        "actual_freqs = Counter(sig_list)\n",
        "print(actual_freqs)\n",
        "\n",
        "limit = len(numbers)\n",
        "print(limit)\n",
        "\n",
        "predicted = []\n",
        "for i in range(1, 10):\n",
        "  pred_num = benford(i) * limit\n",
        "  predicted.append(round(pred_num, 4))\n",
        "\n",
        "benford_list = [1,2,3,4,5,6,7,8,9]\n",
        "\n",
        "predicted_freqs = dict(zip(benford_list, predicted))\n",
        "\n",
        "df = pd.DataFrame({'Predicted Values':pd.Series(predicted_freqs),'Actual Values':pd.Series(actual_freqs)})\n",
        "\n",
        "\n",
        "# df[\"Predicted Proportion\"] = df['Predicted Values'] / limit\n",
        "# df[\"Actual Proportion\"] = df['Actual Values'] / limit\n",
        "\n",
        "df[\"Predicted Percent\"] = (df['Predicted Values'] / limit) * 100\n",
        "df[\"Actual Percent\"] = (df['Actual Values']  / limit) * 100\n",
        "\n",
        "\n",
        "print(df)\n",
        "\n",
        "actual_props = list(df[\"Predicted Percent\"])\n",
        "predicted_props = list(df[\"Actual Percent\"])\n"
      ],
      "execution_count": 185,
      "outputs": [
        {
          "output_type": "stream",
          "text": [
            "Counter({1.0: 374, 2.0: 246, 3.0: 158, 4.0: 124, 5.0: 118, 6.0: 82, 7.0: 80, 9.0: 54, 8.0: 44})\n",
            "1280\n",
            "     Predicted Values  Actual Values  Predicted Percent  Actual Percent\n",
            "1.0          385.3184            374          30.103000        29.21875\n",
            "2.0          225.3968            246          17.609125        19.21875\n",
            "3.0          159.9216            158          12.493875        12.34375\n",
            "4.0          124.0448            124           9.691000         9.68750\n",
            "5.0          101.3520            118           7.918125         9.21875\n",
            "6.0           85.6919             82           6.694680         6.40625\n",
            "7.0           74.2297             80           5.799195         6.25000\n",
            "8.0           65.4752             44           5.115250         3.43750\n",
            "9.0           58.5696             54           4.575750         4.21875\n"
          ],
          "name": "stdout"
        }
      ]
    },
    {
      "cell_type": "code",
      "metadata": {
        "id": "Z3V5PxrXP7PS",
        "outputId": "5928a494-356c-4380-e8bf-4b644bde4e57",
        "colab": {
          "base_uri": "https://localhost:8080/",
          "height": 34
        }
      },
      "source": [
        "# create test statistic:\n",
        "chi_squared = 0\n",
        "for i in range(0,9):\n",
        "  error = ((actual_props[i] - predicted_props[i]) ** 2) / predicted_props[i]\n",
        "  chi_squared  = chi_squared + error\n",
        "\n",
        "print(chi_squared)"
      ],
      "execution_count": 186,
      "outputs": [
        {
          "output_type": "stream",
          "text": [
            "1.2414724067847849\n"
          ],
          "name": "stdout"
        }
      ]
    },
    {
      "cell_type": "code",
      "metadata": {
        "id": "rg7nlw1AReGz",
        "outputId": "10de4274-78cf-46e4-c5fb-802b90cd2868",
        "colab": {
          "base_uri": "https://localhost:8080/",
          "height": 85
        }
      },
      "source": [
        "# conduct actual hypthesis test:\n",
        "# H0: All digits 1-9 Conform to the predicted Benford's Law Proportion\n",
        "# H1: At least 1 digit does not conform to the predictions.\n",
        "\n",
        "\n",
        "dof = 8\n",
        "\n",
        "value = 1 - stats.chi2.cdf(chi_squared, dof)\n",
        "print( \"P value: \" ,value)\n",
        "print( \"Alpha: \" , 0.05)\n",
        "\n",
        "\n",
        "if value < 0.05:\n",
        "  print(\"Results are significant at this Alpha Level (0.05). \\nThis indicates \" + \n",
        "        \"very strong evidence that Benford's Law is NOT obeyed. H0 is rejected.\")\n",
        "else:\n",
        "  print(\"Results are not statistically significant. \\nThis indicates \" + \n",
        "        \"very strong evidence that Benford's Law IS obeyed. Fail to reject H0.\")"
      ],
      "execution_count": 187,
      "outputs": [
        {
          "output_type": "stream",
          "text": [
            "P value:  0.9962150267925126\n",
            "Alpha:  0.05\n",
            "Results are not statistically significant. \n",
            "This indicates very strong evidence that Benford's Law IS obeyed. Fail to reject H0.\n"
          ],
          "name": "stdout"
        }
      ]
    },
    {
      "cell_type": "markdown",
      "metadata": {
        "id": "6KYZLy_2gFHc"
      },
      "source": [
        "**History of Data Tested so Far:**\n",
        "\n",
        "-- Dataset | Column | Chi-Squre Value | p-Value | Result -- \n",
        "\n",
        "1) NYC Property Sales, SALE PRICE, 6.0326, 0.64357, **Obeys**\n",
        "\n",
        "2) Video Game Sales, NA_Sales, 28.801, 0.00034, **Does not Obey**\n",
        "\n",
        "3) Video Game Sales, EU_Sales, 66.899, 2.029E-11, **Does not Obey**\n",
        "\n",
        "4) Video Game Sales, JP_Sales, 81.6581, 2.264E-14, **Does not Obey**\n",
        "\n",
        "5) Sample Sales Data, SALES, 30.505, 1.721E-4, **Does not Obey**\n",
        "\n",
        "6) Sample Sales Data, QUANTITYORDERED, 2999.20, 0.0, **Does not Obey**\n",
        "\n",
        "7) Car sales, Sales_in_thousands, 3.219, 0.9198, **Obeys**\n",
        "\n",
        "8) NYS New York State Budget and Actuals, 2018-19 Actuals, 4.704, 0.78866, **Obeys**\n",
        "\n",
        "9) NYS New York State Budget and Actuals, 1994-95  Actuals, 0.4417, 0.99991, **Obeys**\n",
        "\n",
        "10) NYS New York State Budget and Actuals, 1999-00  Actuals, 1.241, 0.9962, **Obeys**\n",
        "\n",
        "\n",
        "\n",
        "**Links to Datasets:**\n",
        "\n",
        "1) https://www.kaggle.com/new-york-city/nyc-property-sales\n",
        "\n",
        "2, 3, 4) https://www.kaggle.com/gregorut/videogamesales\n",
        "\n",
        "5, 6) https://www.kaggle.com/kyanyoga/sample-sales-data\n",
        "\n",
        "7) https://www.kaggle.com/gagandeep16/car-sales\n",
        "\n",
        "8, 9) https://www.kaggle.com/new-york-state/nys-new-york-state-budget-and-actuals\n"
      ]
    },
    {
      "cell_type": "code",
      "metadata": {
        "id": "TcEb3qFVngPd"
      },
      "source": [
        ""
      ],
      "execution_count": 187,
      "outputs": []
    }
  ]
}