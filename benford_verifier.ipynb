{
  "nbformat": 4,
  "nbformat_minor": 0,
  "metadata": {
    "colab": {
      "name": "benford_verifier.ipynb",
      "provenance": [],
      "collapsed_sections": [],
      "authorship_tag": "ABX9TyNQ+ht6+pQQqoaLbnkBnR9B",
      "include_colab_link": true
    },
    "kernelspec": {
      "name": "python3",
      "display_name": "Python 3"
    }
  },
  "cells": [
    {
      "cell_type": "markdown",
      "metadata": {
        "id": "view-in-github",
        "colab_type": "text"
      },
      "source": [
        "<a href=\"https://colab.research.google.com/github/mike-ferguson/benford/blob/main/benford_verifier.ipynb\" target=\"_parent\"><img src=\"https://colab.research.google.com/assets/colab-badge.svg\" alt=\"Open In Colab\"/></a>"
      ]
    },
    {
      "cell_type": "code",
      "metadata": {
        "id": "JuFgyXAnJCqX",
        "outputId": "969c7f8b-47a8-4b46-f8f4-d36338641a3c",
        "colab": {
          "base_uri": "https://localhost:8080/",
          "height": 102
        }
      },
      "source": [
        "# import or generate a dataset:\n",
        "\n",
        "import pandas as pd, numpy as np\n",
        "import random\n",
        "import math \n",
        "from collections import Counter\n",
        "from scipy import stats\n",
        "\n",
        "\n",
        "# read in the dataset:\n",
        "data = pd.read_csv('Car_sales.csv', encoding= 'unicode_escape')\n",
        "\n",
        "# use this to find the columns you want to use:\n",
        "print(data.columns)\n",
        "col_wanted = \"Power_perf_factor\"\n",
        "\n",
        "# remove NA values or values not a number.\n",
        "df = data[data[col_wanted].notna()]\n",
        "df = df[pd.to_numeric(df[col_wanted], errors='coerce').notnull()]\n",
        "df_final = df[col_wanted]\n",
        "\n",
        "# casts entries to floats and make final list\n",
        "numbers = list(df_final)\n",
        "numbers = [float(i) for i in numbers]\n",
        "numbers = [x for x in numbers if x > 0.0]\n"
      ],
      "execution_count": 149,
      "outputs": [
        {
          "output_type": "stream",
          "text": [
            "Index(['Manufacturer', 'Model', 'Sales_in_thousands', '__year_resale_value',\n",
            "       'Vehicle_type', 'Price_in_thousands', 'Engine_size', 'Horsepower',\n",
            "       'Wheelbase', 'Width', 'Length', 'Curb_weight', 'Fuel_capacity',\n",
            "       'Fuel_efficiency', 'Latest_Launch', 'Power_perf_factor'],\n",
            "      dtype='object')\n"
          ],
          "name": "stdout"
        }
      ]
    },
    {
      "cell_type": "code",
      "metadata": {
        "id": "LGg9ZzocSKTI",
        "outputId": "2d3f0ac1-c0d7-4c49-b5a7-688f046188c0",
        "colab": {
          "base_uri": "https://localhost:8080/",
          "height": 299
        }
      },
      "source": [
        "# look at the data to see properties, like normality:\n",
        "\n",
        "from matplotlib import pyplot\n",
        "import statistics\n",
        "\n",
        "pyplot.hist(numbers)\n",
        "pyplot.show()\n",
        "\n",
        "mean = statistics.mean(numbers)\n",
        "std = statistics.stdev(numbers)\n",
        "median = statistics.median(numbers)\n",
        "print(\"Mean: \", mean)\n",
        "print(\"Standard Deviation: \", std)\n",
        "\n",
        "\n",
        "# is mean greater then median?\n",
        "if mean <= median:\n",
        "  print(\"The mean is not greateer then the median. Your distribution might be\" + \n",
        "        \"off; Benford's Law might not apply...\")\n"
      ],
      "execution_count": 150,
      "outputs": [
        {
          "output_type": "display_data",
          "data": {
            "image/png": "[encoded data removed]",
            "text/plain": [
              "<Figure size 432x288 with 1 Axes>"
            ]
          },
          "metadata": {
            "tags": [],
            "needs_background": "light"
          }
        },
        {
          "output_type": "stream",
          "text": [
            "Mean:  77.04359120077419\n",
            "Standard Deviation:  25.142664099182795\n"
          ],
          "name": "stdout"
        }
      ]
    },
    {
      "cell_type": "code",
      "metadata": {
        "id": "YL7k6QLWJ2PN",
        "outputId": "eac435b8-0bc7-4425-b89c-915b2a361bb1",
        "colab": {
          "base_uri": "https://localhost:8080/",
          "height": 54
        }
      },
      "source": [
        "# process the raw list:\n",
        "sig_list = ([x // (10**math.floor(math.log10(x))) for x in numbers])\n",
        "print(sig_list[0:50])\n",
        "\n",
        "# get Benford probabilities:\n",
        "def benford (digit):\n",
        "  return math.log10((digit + 1)/ digit)\n"
      ],
      "execution_count": 151,
      "outputs": [
        {
          "output_type": "stream",
          "text": [
            "[5.0, 9.0, 9.0, 6.0, 8.0, 1.0, 7.0, 8.0, 8.0, 7.0, 9.0, 8.0, 8.0, 1.0, 1.0, 1.0, 8.0, 1.0, 4.0, 6.0, 6.0, 7.0, 8.0, 1.0, 4.0, 2.0, 7.0, 6.0, 6.0, 8.0, 5.0, 1.0, 1.0, 5.0, 6.0, 6.0, 8.0, 1.0, 9.0, 7.0, 7.0, 4.0, 9.0, 6.0, 4.0, 7.0, 6.0, 6.0, 4.0, 8.0]\n"
          ],
          "name": "stdout"
        }
      ]
    },
    {
      "cell_type": "code",
      "metadata": {
        "id": "KLFWYBc9Mg4-",
        "outputId": "6b4dec23-1fd7-4f5b-9df8-2a0256ee3c55",
        "colab": {
          "base_uri": "https://localhost:8080/",
          "height": 221
        }
      },
      "source": [
        "# calculate meta-statistics:\n",
        "\n",
        "actual_freqs = Counter(sig_list)\n",
        "print(actual_freqs)\n",
        "\n",
        "limit = len(numbers)\n",
        "print(limit)\n",
        "\n",
        "predicted = []\n",
        "for i in range(1, 10):\n",
        "  pred_num = benford(i) * limit\n",
        "  predicted.append(round(pred_num, 4))\n",
        "\n",
        "benford_list = [1,2,3,4,5,6,7,8,9]\n",
        "\n",
        "predicted_freqs = dict(zip(benford_list, predicted))\n",
        "\n",
        "df = pd.DataFrame({'Predicted Values':pd.Series(predicted_freqs),'Actual Values':pd.Series(actual_freqs)})\n",
        "\n",
        "\n",
        "# df[\"Predicted Proportion\"] = df['Predicted Values'] / limit\n",
        "# df[\"Actual Proportion\"] = df['Actual Values'] / limit\n",
        "\n",
        "df[\"Predicted Percent\"] = (df['Predicted Values'] / limit) * 100\n",
        "df[\"Actual Percent\"] = (df['Actual Values']  / limit) * 100\n",
        "\n",
        "\n",
        "print(df)\n",
        "\n",
        "actual_props = list(df[\"Predicted Percent\"])\n",
        "predicted_props = list(df[\"Actual Percent\"])\n"
      ],
      "execution_count": 152,
      "outputs": [
        {
          "output_type": "stream",
          "text": [
            "Counter({6.0: 29, 8.0: 29, 1.0: 25, 7.0: 21, 5.0: 18, 4.0: 17, 9.0: 13, 3.0: 2, 2.0: 1})\n",
            "155\n",
            "     Predicted Values  Actual Values  Predicted Percent  Actual Percent\n",
            "1.0           46.6596             25          30.102968       16.129032\n",
            "2.0           27.2941              1          17.609097        0.645161\n",
            "3.0           19.3655              2          12.493871        1.290323\n",
            "4.0           15.0211             17           9.691032       10.967742\n",
            "5.0           12.2731             18           7.918129       11.612903\n",
            "6.0           10.3768             29           6.694710       18.709677\n",
            "7.0            8.9888             21           5.799226       13.548387\n",
            "8.0            7.9286             29           5.115226       18.709677\n",
            "9.0            7.0924             13           4.575742        8.387097\n"
          ],
          "name": "stdout"
        }
      ]
    },
    {
      "cell_type": "code",
      "metadata": {
        "id": "Z3V5PxrXP7PS",
        "outputId": "d05f54ef-08a8-4a8c-8edb-c2db9d4e26a4",
        "colab": {
          "base_uri": "https://localhost:8080/",
          "height": 34
        }
      },
      "source": [
        "# create test statistic:\n",
        "chi_squared = 0\n",
        "for i in range(0,9):\n",
        "  error = ((actual_props[i] - predicted_props[i]) ** 2) / predicted_props[i]\n",
        "  chi_squared  = chi_squared + error\n",
        "\n",
        "print(chi_squared)"
      ],
      "execution_count": 153,
      "outputs": [
        {
          "output_type": "stream",
          "text": [
            "580.51768406736\n"
          ],
          "name": "stdout"
        }
      ]
    },
    {
      "cell_type": "code",
      "metadata": {
        "id": "rg7nlw1AReGz",
        "outputId": "536d0a63-1f35-4a07-8061-c1cb3ec40ac7",
        "colab": {
          "base_uri": "https://localhost:8080/",
          "height": 85
        }
      },
      "source": [
        "# conduct actual hypthesis test:\n",
        "# H0: All digits 1-9 Conform to the predicted Benford's Law Proportion\n",
        "# H1: At least 1 digit does not conform to the predictions.\n",
        "\n",
        "\n",
        "dof = 8\n",
        "\n",
        "value = 1 - stats.chi2.cdf(chi_squared, dof)\n",
        "print( \"P value: \" ,value)\n",
        "print( \"Alpha: \" , 0.05)\n",
        "\n",
        "\n",
        "if value < 0.05:\n",
        "  print(\"Results are significant at this Alpha Level (0.05). \\nThis indicates \" + \n",
        "        \"very strong evidence that Benford's Law is NOT obeyed. H0 is rejected.\")\n",
        "else:\n",
        "  print(\"Results are not statistically significant. \\nThis indicates \" + \n",
        "        \"very strong evidence that Benford's Law IS obeyed. Fail to reject H0.\")"
      ],
      "execution_count": 154,
      "outputs": [
        {
          "output_type": "stream",
          "text": [
            "P value:  0.0\n",
            "Alpha:  0.05\n",
            "Results are significant at this Alpha Level (0.05). \n",
            "This indicates very strong evidence that Benford's Law is NOT obeyed. H0 is rejected.\n"
          ],
          "name": "stdout"
        }
      ]
    },
    {
      "cell_type": "markdown",
      "metadata": {
        "id": "6KYZLy_2gFHc"
      },
      "source": [
        "**History of Data Tested so Far:**\n",
        "\n",
        "-- Dataset | Column | Chi-Squre Value | p-Value | Result -- \n",
        "\n",
        "1) NYC Property Sales, SALE PRICE, 6.0326, 0.64357, **Obeys**\n",
        "\n",
        "2) Video Game Sales, NA_Sales, 28.801, 0.00034, **Does not Obey**\n",
        "\n",
        "3) Video Game Sales, EU_Sales, 66.899, 2.029E-11, **Does not Obey**\n",
        "\n",
        "4) Video Game Sales, JP_Sales, 81.6581, 2.264E-14, **Does not Obey**\n",
        "\n",
        "5) Sample Sales Data, SALES, 30.505, 1.721E-4, **Does not Obey**\n",
        "\n",
        "6) Sample Sales Data, QUANTITYORDERED, 2999.20, 0.0, **Does not Obey**\n",
        "\n",
        "7) Car sales, Sales_in_thousands, 3.219, 0.9198, **Does not Obey**\n",
        "\n",
        "\n",
        "\n",
        "\n",
        "**Links to Datasets:**\n",
        "\n",
        "1) https://www.kaggle.com/new-york-city/nyc-property-sales\n",
        "\n",
        "2, 3, 4) https://www.kaggle.com/gregorut/videogamesales\n",
        "\n",
        "5, 6) https://www.kaggle.com/kyanyoga/sample-sales-data\n",
        "\n",
        "7) https://www.kaggle.com/gagandeep16/car-sales\n"
      ]
    }
  ]
}