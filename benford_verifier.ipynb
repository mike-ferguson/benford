{
  "nbformat": 4,
  "nbformat_minor": 0,
  "metadata": {
    "colab": {
      "name": "benford_verifier.ipynb",
      "provenance": [],
      "collapsed_sections": [],
      "authorship_tag": "ABX9TyOvKxXwdSL8Dr1rRnZiuFML",
      "include_colab_link": true
    },
    "kernelspec": {
      "name": "python3",
      "display_name": "Python 3"
    }
  },
  "cells": [
    {
      "cell_type": "markdown",
      "metadata": {
        "id": "view-in-github",
        "colab_type": "text"
      },
      "source": [
        "<a href=\"https://colab.research.google.com/github/mike-ferguson/benford/blob/main/benford_verifier.ipynb\" target=\"_parent\"><img src=\"https://colab.research.google.com/assets/colab-badge.svg\" alt=\"Open In Colab\"/></a>"
      ]
    },
    {
      "cell_type": "code",
      "metadata": {
        "id": "JuFgyXAnJCqX",
        "outputId": "4c965806-02be-432a-d02f-feb9347539a4",
        "colab": {
          "base_uri": "https://localhost:8080/",
          "height": 173
        }
      },
      "source": [
        "# import or generate a dataset:\n",
        "\n",
        "import pandas as pd, numpy as np\n",
        "import random\n",
        "import math \n",
        "from collections import Counter\n",
        "from scipy import stats\n",
        "\n",
        "\n",
        "# read in the dataset:\n",
        "data = pd.read_csv('sales_data_sample.csv', encoding= 'unicode_escape')\n",
        "print(data.columns)\n",
        "col_wanted = \"PRICEEACH\"\n",
        "\n",
        "# remove NA values or values not a number.\n",
        "df = data[data[col_wanted].notna()]\n",
        "df = df[pd.to_numeric(df[col_wanted], errors='coerce').notnull()]\n",
        "df_final = df[col_wanted]\n",
        "\n",
        "# casts entries to floats and make final list\n",
        "numbers = list(df_final)\n",
        "numbers = [float(i) for i in numbers]\n",
        "numbers = [x for x in numbers if x > 0.0]\n",
        "\n",
        "print(numbers)"
      ],
      "execution_count": 112,
      "outputs": [
        {
          "output_type": "stream",
          "text": [
            "Index(['ORDERNUMBER', 'QUANTITYORDERED', 'PRICEEACH', 'ORDERLINENUMBER',\n",
            "       'SALES', 'ORDERDATE', 'STATUS', 'QTR_ID', 'MONTH_ID', 'YEAR_ID',\n",
            "       'PRODUCTLINE', 'MSRP', 'PRODUCTCODE', 'CUSTOMERNAME', 'PHONE',\n",
            "       'ADDRESSLINE1', 'ADDRESSLINE2', 'CITY', 'STATE', 'POSTALCODE',\n",
            "       'COUNTRY', 'TERRITORY', 'CONTACTLASTNAME', 'CONTACTFIRSTNAME',\n",
            "       'DEALSIZE'],\n",
            "      dtype='object')\n",
            "[95.7, 81.35, 94.74, 83.26, 100.0, 96.66, 86.13, 100.0, 98.57, 100.0, 100.0, 100.0, 100.0, 100.0, 92.83, 100.0, 100.0, 100.0, 94.74, 100.0, 100.0, 72.55, 34.91, 76.36, 100.0, 100.0, 100.0, 100.0, 100.0, 100.0, 100.0, 100.0, 100.0, 100.0, 100.0, 100.0, 100.0, 100.0, 100.0, 100.0, 100.0, 100.0, 100.0, 100.0, 100.0, 100.0, 100.0, 100.0, 100.0, 100.0, 100.0, 100.0, 100.0, 100.0, 99.91, 96.34, 100.0, 100.0, 100.0, 100.0, 100.0, 96.34, 100.0, 100.0, 100.0, 100.0, 100.0, 100.0, 100.0, 100.0, 96.34, 100.0, 100.0, 100.0, 68.92, 51.15, 100.0, 44.51, 100.0, 100.0, 100.0, 100.0, 100.0, 100.0, 100.0, 100.0, 100.0, 100.0, 100.0, 100.0, 100.0, 100.0, 100.0, 100.0, 100.0, 100.0, 100.0, 100.0, 100.0, 100.0, 76.67, 100.0, 100.0, 86.77, 100.0, 100.0, 100.0, 100.0, 100.0, 100.0, 100.0, 100.0, 100.0, 100.0, 100.0, 100.0, 100.0, 100.0, 100.0, 100.0, 100.0, 100.0, 100.0, 100.0, 64.93, 48.05, 75.47, 54.68, 100.0, 100.0, 100.0, 100.0, 100.0, 100.0, 100.0, 100.0, 100.0, 100.0, 100.0, 100.0, 100.0, 100.0, 100.0, 100.0, 100.0, 100.0, 100.0, 100.0, 100.0, 100.0, 100.0, 100.0, 61.99, 100.0, 100.0, 100.0, 65.63, 100.0, 46.9, 100.0, 100.0, 100.0, 100.0, 100.0, 100.0, 100.0, 100.0, 100.0, 100.0, 100.0, 100.0, 100.0, 100.0, 100.0, 100.0, 100.0, 100.0, 100.0, 100.0, 100.0, 71.47, 79.65, 85.39, 76.0, 99.04, 100.0, 100.0, 100.0, 100.0, 100.0, 100.0, 100.0, 100.0, 100.0, 100.0, 100.0, 100.0, 100.0, 100.0, 100.0, 100.0, 100.0, 100.0, 100.0, 64.0, 57.22, 52.36, 100.0, 100.0, 100.0, 69.12, 100.0, 100.0, 100.0, 100.0, 100.0, 100.0, 100.0, 100.0, 100.0, 100.0, 100.0, 100.0, 100.0, 100.0, 100.0, 100.0, 100.0, 100.0, 100.0, 100.0, 100.0, 99.21, 100.0, 100.0, 100.0, 100.0, 63.2, 100.0, 100.0, 100.0, 100.0, 100.0, 100.0, 100.0, 100.0, 100.0, 100.0, 100.0, 100.0, 100.0, 100.0, 100.0, 100.0, 100.0, 100.0, 100.0, 100.0, 100.0, 100.0, 100.0, 100.0, 78.92, 100.0, 100.0, 100.0, 100.0, 100.0, 100.0, 100.0, 100.0, 100.0, 100.0, 100.0, 100.0, 100.0, 100.0, 100.0, 100.0, 100.0, 100.0, 100.0, 100.0, 100.0, 54.33, 100.0, 100.0, 55.34, 100.0, 100.0, 100.0, 100.0, 99.82, 100.0, 100.0, 100.0, 100.0, 100.0, 100.0, 100.0, 100.0, 99.82, 100.0, 100.0, 100.0, 100.0, 100.0, 100.0, 100.0, 100.0, 83.63, 95.93, 96.73, 100.0, 72.38, 100.0, 100.0, 100.0, 100.0, 100.0, 100.0, 100.0, 100.0, 100.0, 100.0, 100.0, 100.0, 100.0, 100.0, 100.0, 100.0, 100.0, 100.0, 100.0, 100.0, 63.38, 100.0, 62.09, 100.0, 95.35, 100.0, 100.0, 89.38, 63.84, 75.01, 63.84, 73.42, 63.84, 81.4, 64.64, 82.99, 92.57, 77.41, 74.21, 90.17, 76.61, 83.79, 69.43, 76.61, 81.4, 73.42, 100.0, 93.56, 81.62, 67.83, 70.26, 90.17, 100.0, 100.0, 100.0, 100.0, 100.0, 100.0, 100.0, 100.0, 100.0, 99.54, 100.0, 100.0, 100.0, 100.0, 97.17, 100.0, 100.0, 100.0, 100.0, 58.38, 100.0, 100.0, 64.16, 35.71, 66.58, 100.0, 100.0, 100.0, 100.0, 97.89, 97.89, 100.0, 100.0, 100.0, 100.0, 100.0, 100.0, 100.0, 93.28, 100.0, 100.0, 100.0, 100.0, 100.0, 100.0, 100.0, 64.74, 75.2, 88.45, 100.0, 100.0, 93.28, 100.0, 100.0, 100.0, 100.0, 100.0, 100.0, 99.17, 93.34, 96.84, 93.34, 100.0, 100.0, 100.0, 100.0, 100.0, 96.84, 100.0, 100.0, 98.0, 100.0, 100.0, 40.25, 49.6, 98.0, 100.0, 98.0, 85.1, 100.0, 100.0, 100.0, 100.0, 100.0, 100.0, 100.0, 100.0, 100.0, 100.0, 100.0, 100.0, 100.0, 100.0, 100.0, 100.0, 100.0, 100.0, 100.0, 100.0, 100.0, 100.0, 100.0, 97.6, 87.06, 100.0, 93.77, 100.0, 100.0, 100.0, 99.66, 100.0, 100.0, 100.0, 91.44, 100.0, 87.33, 100.0, 100.0, 89.38, 100.0, 100.0, 95.55, 100.0, 100.0, 95.55, 89.38, 86.3, 95.13, 36.11, 50.18, 100.0, 93.16, 100.0, 95.55, 50.14, 49.06, 54.99, 43.13, 58.22, 51.21, 44.21, 54.45, 53.37, 63.61, 43.13, 48.52, 58.22, 51.75, 57.68, 56.07, 48.52, 44.21, 57.68, 89.89, 58.95, 72.41, 98.63, 52.83, 100.0, 51.75, 100.0, 100.0, 99.55, 100.0, 100.0, 100.0, 100.0, 100.0, 100.0, 100.0, 100.0, 100.0, 100.0, 100.0, 100.0, 100.0, 100.0, 100.0, 100.0, 100.0, 100.0, 56.3, 42.64, 100.0, 100.0, 100.0, 100.0, 100.0, 100.0, 100.0, 100.0, 100.0, 100.0, 100.0, 100.0, 100.0, 100.0, 100.0, 100.0, 100.0, 100.0, 100.0, 100.0, 100.0, 100.0, 99.52, 57.55, 54.57, 100.0, 100.0, 100.0, 100.0, 100.0, 100.0, 100.0, 100.0, 100.0, 100.0, 100.0, 100.0, 100.0, 100.0, 100.0, 100.0, 100.0, 100.0, 100.0, 74.04, 100.0, 100.0, 100.0, 100.0, 100.0, 82.39, 72.38, 79.31, 82.39, 88.55, 63.14, 73.92, 90.86, 85.47, 66.99, 64.68, 73.92, 83.93, 74.69, 90.86, 82.39, 92.4, 91.63, 78.54, 100.0, 65.45, 100.0, 67.76, 79.22, 73.92, 83.93, 100.0, 100.0, 100.0, 100.0, 100.0, 100.0, 100.0, 100.0, 100.0, 100.0, 100.0, 100.0, 100.0, 100.0, 100.0, 100.0, 100.0, 100.0, 100.0, 32.47, 100.0, 64.69, 100.0, 100.0, 43.05, 100.0, 100.0, 100.0, 100.0, 100.0, 100.0, 100.0, 100.0, 100.0, 100.0, 100.0, 100.0, 100.0, 100.0, 100.0, 100.0, 100.0, 100.0, 100.0, 100.0, 100.0, 100.0, 100.0, 100.0, 100.0, 100.0, 88.0, 100.0, 100.0, 67.8, 50.25, 53.88, 62.36, 69.62, 57.51, 61.15, 59.33, 71.44, 62.96, 50.85, 72.65, 62.96, 61.75, 49.04, 61.15, 84.25, 56.91, 100.0, 49.3, 72.65, 63.57, 100.0, 100.0, 100.0, 100.0, 100.0, 100.0, 100.0, 100.0, 100.0, 100.0, 100.0, 98.18, 99.41, 100.0, 100.0, 100.0, 100.0, 100.0, 37.48, 100.0, 100.0, 36.42, 100.0, 100.0, 98.18, 99.41, 100.0, 100.0, 100.0, 100.0, 100.0, 100.0, 100.0, 100.0, 100.0, 100.0, 100.0, 100.0, 100.0, 100.0, 100.0, 100.0, 100.0, 64.69, 100.0, 100.0, 100.0, 100.0, 98.99, 100.0, 100.0, 54.09, 68.67, 65.02, 61.99, 69.28, 71.1, 69.28, 60.16, 70.49, 69.89, 61.38, 59.55, 61.99, 49.22, 69.28, 57.73, 57.73, 53.48, 52.87, 61.21, 61.38, 100.0, 61.99, 96.86, 48.62, 38.5, 61.99, 49.22, 90.39, 71.81, 69.27, 85.32, 70.96, 76.88, 100.0, 76.03, 98.84, 86.17, 90.39, 71.81, 82.79, 82.79, 100.0, 100.0, 100.0, 100.0, 69.27, 74.77, 76.88, 76.03, 98.84, 70.87, 58.15, 61.78, 49.67, 51.48, 61.18, 64.2, 65.42, 64.81, 49.67, 60.57, 55.72, 61.18, 58.75, 63.6, 49.06, 48.46, 52.09, 52.7, 100.0, 62.16, 49.67, 53.3, 100.0, 55.72, 61.18, 100.0, 100.0, 100.0, 100.0, 100.0, 100.0, 100.0, 100.0, 100.0, 100.0, 100.0, 100.0, 100.0, 100.0, 100.0, 100.0, 100.0, 100.0, 100.0, 52.67, 100.0, 100.0, 94.79, 47.18, 78.11, 100.0, 100.0, 100.0, 100.0, 100.0, 100.0, 100.0, 100.0, 100.0, 100.0, 100.0, 100.0, 100.0, 100.0, 100.0, 100.0, 100.0, 100.0, 100.0, 100.0, 64.9, 52.32, 100.0, 100.0, 100.0, 100.0, 83.07, 100.0, 90.17, 100.0, 91.18, 100.0, 100.0, 89.15, 93.21, 90.17, 100.0, 100.0, 100.0, 88.14, 96.24, 100.0, 100.0, 100.0, 100.0, 100.0, 90.17, 100.0, 87.13, 100.0, 100.0, 45.25, 88.14, 57.46, 64.33, 73.7, 71.2, 49.97, 69.96, 53.72, 68.08, 51.84, 67.46, 58.71, 63.71, 58.09, 53.72, 63.08, 68.71, 50.59, 64.96, 53.72, 29.87, 100.0, 64.96, 70.58, 44.21, 68.08, 59.96, 53.72, 83.44, 89.46, 96.34, 74.84, 79.14, 73.12, 81.72, 89.46, 87.74, 100.0, 94.62, 73.98, 84.3, 98.06, 98.06, 96.34, 83.44, 94.62, 45.86, 82.58, 64.97, 86.74, 93.01, 72.26, 74.84, 73.98, 100.0, 100.0, 97.39, 90.06, 100.0, 100.0, 89.01, 100.0, 100.0, 100.0, 100.0, 100.0, 100.0, 84.82, 100.0, 100.0, 100.0, 85.87, 100.0, 47.04, 39.8, 100.0, 100.0, 94.22, 100.0, 86.92, 84.82, 100.0, 100.0, 100.0, 100.0, 100.0, 100.0, 100.0, 100.0, 100.0, 100.0, 100.0, 100.0, 100.0, 100.0, 100.0, 100.0, 100.0, 100.0, 69.12, 100.0, 100.0, 100.0, 61.52, 100.0, 100.0, 100.0, 100.0, 100.0, 100.0, 100.0, 100.0, 100.0, 100.0, 100.0, 100.0, 100.0, 100.0, 100.0, 100.0, 100.0, 100.0, 100.0, 100.0, 100.0, 100.0, 100.0, 100.0, 100.0, 100.0, 100.0, 100.0, 100.0, 100.0, 100.0, 100.0, 100.0, 100.0, 100.0, 100.0, 100.0, 100.0, 100.0, 100.0, 100.0, 100.0, 100.0, 100.0, 93.49, 100.0, 56.85, 100.0, 100.0, 100.0, 100.0, 100.0, 100.0, 100.0, 100.0, 95.8, 100.0, 97.81, 88.74, 100.0, 100.0, 80.67, 100.0, 100.0, 80.67, 95.8, 100.0, 100.0, 100.0, 100.0, 91.76, 100.0, 100.0, 100.0, 93.04, 84.71, 100.0, 89.75, 100.0, 68.35, 73.17, 78.0, 86.04, 81.21, 70.76, 82.82, 94.88, 86.04, 78.0, 95.69, 73.17, 76.39, 86.84, 69.96, 70.76, 78.8, 80.41, 73.98, 59.1, 66.74, 60.3, 100.0, 100.0, 100.0, 100.0, 82.34, 100.0, 94.25, 100.0, 95.24, 86.31, 79.37, 87.3, 100.0, 100.0, 84.33, 89.29, 100.0, 96.23, 100.0, 100.0, 91.27, 100.0, 100.0, 100.0, 73.08, 100.0, 100.0, 89.29, 100.0, 100.0, 100.0, 100.0, 100.0, 100.0, 100.0, 100.0, 100.0, 100.0, 100.0, 100.0, 100.0, 100.0, 100.0, 100.0, 100.0, 100.0, 100.0, 100.0, 100.0, 100.0, 100.0, 96.49, 100.0, 100.0, 100.0, 100.0, 100.0, 100.0, 100.0, 100.0, 100.0, 100.0, 100.0, 100.0, 100.0, 100.0, 100.0, 100.0, 100.0, 100.0, 100.0, 100.0, 67.91, 84.88, 100.0, 70.83, 100.0, 100.0, 67.77, 49.74, 50.36, 67.14, 64.66, 68.39, 50.36, 72.74, 54.09, 58.44, 52.22, 52.84, 54.71, 50.36, 57.2, 55.95, 67.14, 59.06, 69.63, 55.95, 53.47, 89.12, 100.0, 100.0, 52.22, 100.0, 99.52, 100.0, 100.0, 100.0, 100.0, 100.0, 100.0, 100.0, 100.0, 85.75, 100.0, 100.0, 85.75, 100.0, 84.7, 86.81, 86.81, 100.0, 100.0, 100.0, 60.49, 57.55, 100.0, 100.0, 100.0, 100.0, 100.0, 100.0, 100.0, 100.0, 100.0, 100.0, 100.0, 100.0, 100.0, 100.0, 100.0, 100.0, 100.0, 100.0, 100.0, 100.0, 100.0, 100.0, 100.0, 100.0, 100.0, 100.0, 100.0, 100.0, 100.0, 86.51, 89.27, 85.59, 100.0, 100.0, 75.46, 100.0, 97.55, 85.59, 94.79, 100.0, 90.19, 100.0, 80.99, 89.27, 81.91, 100.0, 100.0, 62.72, 100.0, 90.19, 92.95, 82.5, 97.42, 92.16, 70.22, 83.38, 73.73, 74.6, 77.24, 100.0, 87.77, 89.53, 89.53, 75.48, 89.53, 71.09, 100.0, 100.0, 90.4, 100.0, 86.01, 100.0, 100.0, 86.89, 58.58, 100.0, 75.48, 100.0, 100.0, 100.0, 100.0, 100.0, 100.0, 100.0, 100.0, 100.0, 100.0, 100.0, 100.0, 100.0, 100.0, 100.0, 99.29, 100.0, 99.29, 100.0, 100.0, 100.0, 100.0, 100.0, 57.53, 100.0, 100.0, 100.0, 47.29, 49.81, 53.83, 43.27, 42.76, 53.83, 44.78, 49.3, 44.78, 53.33, 45.28, 40.25, 59.87, 59.87, 58.36, 59.87, 51.82, 49.3, 56.85, 100.0, 79.86, 100.0, 100.0, 100.0, 100.0, 59.87, 59.87, 100.0, 100.0, 100.0, 100.0, 100.0, 100.0, 100.0, 100.0, 100.0, 100.0, 100.0, 100.0, 100.0, 100.0, 100.0, 100.0, 100.0, 100.0, 100.0, 100.0, 100.0, 58.18, 67.14, 100.0, 61.29, 57.73, 81.25, 80.54, 71.98, 69.84, 76.26, 76.26, 83.39, 57.73, 66.99, 75.55, 60.58, 73.41, 72.7, 66.99, 100.0, 63.43, 85.25, 100.0, 66.99, 57.73, 85.25, 77.9, 60.26, 72.76, 75.69, 74.22, 69.82, 62.47, 82.31, 60.26, 76.43, 80.1, 74.96, 66.14, 72.02, 87.45, 70.55, 56.84, 59.53, 60.37, 100.0, 76.43, 64.67, 55.49, 69.36, 60.69, 54.33, 65.31, 69.36, 68.78, 60.11, 66.47, 46.82, 56.07, 54.33, 52.6, 46.82, 64.74, 46.82, 53.75, 61.85, 53.18, 69.16, 100.0, 47.4, 60.76, 97.27, 91.76, 50.29, 52.6, 46.82, 100.0, 98.05, 93.54, 95.8, 100.0, 100.0, 100.0, 100.0, 100.0, 90.16, 91.29, 100.0, 100.0, 100.0, 100.0, 100.0, 100.0, 100.0, 100.0, 87.78, 84.39, 96.92, 100.0, 100.0, 100.0, 100.0, 59.37, 59.87, 49.81, 56.85, 53.33, 42.76, 53.83, 53.83, 49.81, 53.33, 43.27, 40.25, 48.3, 45.28, 52.32, 51.32, 49.3, 42.26, 87.96, 36.21, 38.5, 100.0, 40.25, 60.37, 88.63, 100.0, 94.1, 87.54, 100.0, 98.48, 100.0, 96.29, 88.63, 97.38, 95.2, 100.0, 100.0, 100.0, 100.0, 87.54, 50.65, 71.73, 94.1, 41.71, 100.0, 96.29, 88.63, 31.2, 35.51, 37.84, 33.19, 27.22, 31.53, 36.84, 29.21, 37.17, 34.19, 29.21, 29.54, 28.88, 38.17, 30.2, 29.54, 100.0, 81.91, 35.18, 100.0, 36.29, 70.56, 100.0, 29.54, 26.88, 83.03, 83.79, 83.03, 83.03, 67.03, 75.41, 68.55, 91.4, 73.88, 61.7, 69.31, 87.6, 87.6, 62.46, 79.98, 70.08, 65.51, 63.22, 86.83, 94.43, 79.98, 100.0, 100.0, 81.4, 87.6, 87.6, 100.0, 100.0, 100.0, 100.0, 100.0, 100.0, 100.0, 100.0, 100.0, 100.0, 100.0, 100.0, 100.0, 100.0, 100.0, 100.0, 100.0, 100.0, 100.0, 100.0, 71.97, 50.33, 100.0, 80.54, 100.0, 100.0, 53.76, 44.35, 45.25, 49.28, 36.29, 41.22, 36.74, 50.62, 38.08, 47.94, 48.38, 45.25, 45.7, 47.49, 48.38, 39.42, 37.63, 100.0, 85.52, 53.76, 31.86, 30.59, 68.35, 100.0, 45.7, 100.0, 100.0, 100.0, 100.0, 100.0, 100.0, 100.0, 100.0, 100.0, 100.0, 100.0, 100.0, 100.0, 100.0, 100.0, 100.0, 100.0, 100.0, 100.0, 100.0, 100.0, 100.0, 100.0, 100.0, 100.0, 100.0, 100.0, 58.87, 76.88, 61.64, 60.95, 80.34, 74.11, 72.03, 76.19, 63.72, 80.34, 79.65, 65.8, 65.1, 75.49, 59.56, 66.49, 56.1, 81.73, 81.03, 100.0, 70.65, 61.23, 100.0, 65.13, 79.65, 78.15, 72.7, 73.6, 100.0, 74.51, 73.6, 83.6, 96.32, 88.14, 88.14, 94.5, 87.24, 79.97, 80.87, 100.0, 93.6, 72.7, 86.72, 100.0, 100.0, 37.5, 94.5, 100.0, 39.6, 30.06, 38.19, 42.43, 40.31, 31.82, 31.12, 31.82, 28.29, 29.7, 40.31, 32.88, 36.07, 33.24, 41.72, 40.66, 30.06, 31.47, 37.13, 100.0, 37.13, 37.13, 82.94, 100.0, 100.0, 38.9, 36.07, 33.24, 74.68, 59.6, 67.14, 60.97, 72.62, 69.88, 80.84, 69.2, 67.82, 82.21, 81.53, 67.82, 67.14, 65.08, 73.99, 71.25, 75.36, 63.71, 58.92, 100.0, 74.68, 70.44, 55.96, 57.55, 61.66, 67.82, 100.0, 93.95, 100.0, 100.0, 100.0, 100.0, 100.0, 100.0, 100.0, 100.0, 98.65, 100.0, 100.0, 100.0, 100.0, 100.0, 42.26, 87.24, 100.0, 36.29, 98.65, 96.3, 32.1, 30.96, 35.87, 42.67, 37.0, 35.49, 42.67, 30.59, 37.0, 43.42, 36.63, 44.56, 42.67, 40.4, 38.89, 39.65, 34.36, 41.91, 33.23, 42.24, 40.4, 38.52, 100.0, 100.0, 100.0, 44.56, 42.67, 72.58, 87.62, 94.71, 98.25, 91.17, 79.66, 72.58, 74.35, 83.2, 89.4, 70.81, 94.71, 100.0, 91.17, 100.0, 92.94, 84.97, 84.08, 86.74, 85.85, 100.0, 100.0, 57.32, 97.87, 83.2, 100.0, 73.62, 83.04, 73.62, 77.05, 81.33, 94.17, 72.77, 79.62, 79.62, 79.62, 81.33, 96.74, 71.06, 68.49, 74.48, 83.04, 84.75, 34.19, 100.0, 79.62, 79.06, 81.33, 96.74, 63.07, 50.21, 66.13, 68.58, 69.8, 50.21, 65.52, 60.01, 64.9, 48.98, 50.21, 62.45, 52.66, 62.45, 61.23, 67.97, 58.78, 56.94, 61.23, 100.0, 62.45, 62.45, 100.0, 41.54, 52.84, 52.66, 52.6, 72.98, 59.18, 77.59, 55.89, 63.12, 73.64, 69.04, 71.67, 77.59, 70.35, 69.7, 70.35, 72.33, 71.67, 53.92, 71.67, 76.93, 72.98, 99.69, 68.38, 100.0, 66.0, 63.76, 71.67, 57.2, 69.7, 100.0, 100.0, 100.0, 100.0, 98.51, 100.0, 100.0, 91.02, 87.81, 92.09, 86.73, 100.0, 100.0, 100.0, 96.37, 92.09, 89.95, 37.18, 95.88, 99.58, 100.0, 86.73, 100.0, 79.67, 90.57, 77.99, 80.51, 67.93, 83.86, 72.12, 85.54, 86.38, 89.73, 80.51, 76.31, 87.21, 83.02, 72.96, 77.15, 91.41, 92.25, 92.25, 59.36, 60.34, 100.0, 85.54, 90.57, 72.96, 76.31, 100.0, 100.0, 100.0, 100.0, 100.0, 100.0, 100.0, 100.0, 100.0, 100.0, 100.0, 100.0, 100.0, 100.0, 100.0, 100.0, 100.0, 100.0, 100.0, 100.0, 100.0, 100.0, 94.58, 53.27, 100.0, 100.0, 100.0, 64.83, 70.29, 81.89, 66.19, 77.11, 73.02, 72.33, 66.19, 69.6, 56.64, 60.05, 75.06, 61.42, 81.89, 55.96, 71.65, 76.43, 77.79, 76.43, 96.92, 59.37, 100.0, 73.0, 73.32, 68.24, 60.05, 75.06, 34.47, 34.47, 33.23, 38.98, 38.98, 33.23, 42.26, 41.03, 33.23, 34.88, 43.9, 36.93, 41.85, 40.62, 40.21, 35.29, 77.24, 97.44, 37.34, 95.03, 36.93, 43.49, 100.0, 100.0, 96.99, 94.62, 100.0, 99.36, 100.0, 100.0, 100.0, 100.0, 100.0, 100.0, 100.0, 100.0, 100.0, 100.0, 100.0, 100.0, 100.0, 100.0, 100.0, 100.0, 50.32, 93.91, 100.0, 100.0, 100.0, 86.68, 100.0, 100.0, 90.57, 91.55, 100.0, 100.0, 100.0, 97.39, 90.57, 100.0, 86.68, 78.89, 97.39, 78.89, 100.0, 100.0, 100.0, 100.0, 100.0, 50.31, 100.0, 86.92, 100.0, 78.89, 63.76, 85.49, 77.52, 84.77, 78.25, 71.0, 74.62, 81.14, 74.62, 75.35, 62.31, 71.0, 72.45, 83.32, 83.32, 60.86, 84.77, 89.9, 62.46, 100.0, 63.34, 78.25, 81.14, 74.62, 68.71, 71.14, 87.31, 64.67, 67.1, 94.58, 71.14, 66.29, 92.16, 70.33, 93.77, 87.31, 83.27, 75.18, 88.12, 80.84, 97.01, 85.69, 100.0, 100.0, 95.39, 100.0, 100.0, 82.42, 100.0, 100.0, 96.31, 100.0, 100.0, 100.0, 100.0, 100.0, 97.27, 80.9, 100.0, 100.0, 100.0, 86.68, 85.72, 82.83, 83.79, 100.0, 87.64, 98.18, 100.0, 100.0, 100.0, 100.0, 100.0, 100.0, 86.68, 92.9, 100.0, 100.0, 93.9, 100.0, 98.89, 79.91, 100.0, 100.0, 100.0, 79.91, 81.91, 98.89, 100.0, 79.91, 100.0, 63.91, 100.0, 81.17, 100.0, 100.0, 94.9, 100.0, 100.0, 43.45, 44.66, 40.23, 35.8, 35.4, 39.83, 45.46, 32.99, 42.24, 39.43, 40.23, 48.28, 32.59, 36.61, 41.03, 42.24, 43.05, 38.22, 100.0, 100.0, 39.83, 48.28, 82.46, 44.56, 40.23, 47.62, 55.73, 51.95, 45.99, 63.85, 45.99, 63.31, 62.77, 43.29, 60.06, 55.19, 54.11, 48.7, 43.83, 47.62, 55.19, 46.53, 57.9, 45.45, 100.0, 60.6, 46.53, 100.0, 66.47, 53.18, 62.77, 48.7, 43.83, 65.87, 63.38, 70.84, 74.57, 50.95, 53.44, 64.0, 50.95, 54.68, 56.55, 52.82, 60.9, 49.71, 64.63, 59.65, 67.73, 50.33, 66.49, 100.0, 84.71, 100.0, 100.0, 99.55, 36.07, 60.28, 49.71, 75.63, 68.52, 62.7, 60.76, 58.18, 54.94, 74.98, 64.64, 54.94, 58.82, 62.05, 73.04, 69.16, 61.41, 63.35, 77.57, 71.75, 73.04, 56.24, 100.0, 73.69, 100.0, 100.0, 100.0, 100.0, 69.16, 61.41, 72.92, 72.23, 57.1, 81.86, 73.61, 59.16, 66.04, 77.73, 61.22, 79.11, 63.97, 81.86, 79.8, 66.04, 59.16, 81.17, 59.16, 44.51, 72.33, 82.26, 100.0, 67.41, 77.73, 61.22, 100.0, 86.74, 89.8, 100.0, 100.0, 100.0, 100.0, 85.72, 100.0, 100.0, 100.0, 100.0, 97.97, 100.0, 100.0, 100.0, 84.7, 100.0, 100.0, 71.02, 100.0, 100.0, 100.0, 48.98, 100.0, 40.15, 50.62, 50.19, 36.66, 41.02, 51.93, 38.4, 41.02, 46.26, 35.35, 51.93, 37.97, 45.39, 51.93, 48.44, 43.64, 47.57, 51.93, 50.62, 82.21, 82.59, 65.8, 100.0, 36.66, 35.35, 51.93, 100.0, 100.0, 100.0, 100.0, 100.0, 94.92, 100.0, 100.0, 100.0, 94.92, 100.0, 100.0, 100.0, 100.0, 98.39, 100.0, 100.0, 100.0, 100.0, 100.0, 100.0, 71.4, 100.0, 56.55, 100.0, 100.0, 100.0, 100.0, 53.31, 49.21, 69.12, 49.79, 57.41, 66.78, 64.44, 48.62, 62.09, 65.61, 68.54, 52.14, 63.85, 56.82, 66.78, 55.07, 60.34, 61.51, 100.0, 100.0, 100.0, 64.93, 58.58, 60.06, 100.0, 63.85, 82.99, 74.85, 96.0, 81.36, 71.6, 80.55, 93.56, 66.72, 80.55, 77.29, 68.34, 72.41, 89.5, 70.78, 78.92, 80.55, 88.68, 77.29, 100.0, 100.0, 100.0, 100.0, 100.0, 100.0, 68.34, 70.67, 76.67, 60.0, 64.0, 64.67, 75.34, 76.0, 54.0, 64.67, 74.67, 62.67, 70.67, 71.34, 62.0, 65.34, 78.67, 75.34, 54.0, 62.0, 60.0, 100.0, 76.67, 100.0, 77.34, 66.67, 71.34, 100.0, 82.21, 77.64, 100.0, 100.0, 98.65, 83.12, 78.55, 100.0, 100.0, 91.34, 84.03, 89.51, 83.12, 100.0, 100.0, 82.21, 100.0, 88.6, 100.0, 60.54, 81.87, 100.0, 87.69, 100.0, 91.34, 70.15, 79.68, 97.0, 84.01, 87.48, 100.0, 88.34, 94.4, 94.4, 80.55, 97.0, 88.34, 100.0, 100.0, 86.61, 71.89, 91.81, 76.22, 100.0, 70.3, 100.0, 100.0, 100.0, 80.55, 100.0, 100.0, 94.14, 85.99, 100.0, 91.43, 100.0, 96.86, 99.57, 90.52, 88.71, 100.0, 95.95, 94.14, 90.52, 94.14, 100.0, 97.76, 93.24, 100.0, 71.25, 100.0, 45.39, 84.41, 85.76, 100.0, 87.8, 95.95, 100.0, 100.0, 100.0, 82.77, 100.0, 100.0, 87.75, 100.0, 99.72, 87.75, 88.75, 100.0, 90.75, 100.0, 100.0, 100.0, 88.75, 100.0, 100.0, 87.75, 100.0, 100.0, 100.0, 83.84, 86.76, 88.75, 100.0, 65.77, 65.77, 85.29, 85.29, 64.33, 70.11, 76.62, 57.82, 78.79, 74.45, 80.95, 82.4, 75.89, 68.67, 62.16, 65.77, 58.55, 75.17, 74.45, 96.31, 74.35, 75.35, 70.33, 100.0, 66.5, 75.89, 100.0, 100.0, 100.0, 100.0, 100.0, 81.93, 85.98, 86.99, 89.01, 100.0, 88.0, 100.0, 100.0, 80.92, 88.0, 85.98, 100.0, 100.0, 99.13, 100.0, 100.0, 82.83, 100.0, 100.0, 54.84, 100.0, 80.92, 100.0, 100.0, 99.67, 100.0, 100.0, 100.0, 100.0, 100.0, 96.11, 100.0, 100.0, 100.0, 100.0, 100.0, 100.0, 100.0, 100.0, 100.0, 68.8, 72.42, 66.73, 100.0, 100.0, 96.11, 100.0, 74.4, 76.0, 96.0, 86.4, 96.0, 82.4, 86.4, 67.2, 92.0, 67.2, 76.0, 73.6, 69.6, 80.8, 87.2, 75.2, 64.0, 100.0, 81.95, 100.0, 100.0, 94.34, 65.6, 92.0, 67.2, 81.14, 100.0, 91.15, 100.0, 88.15, 100.0, 92.16, 100.0, 92.16, 100.0, 100.0, 96.16, 100.0, 88.15, 86.15, 88.15, 100.0, 90.15, 86.15, 80.0, 89.38, 77.34, 96.34, 92.08, 100.0, 100.0, 100.0, 83.42, 85.41, 85.41, 100.0, 100.0, 100.0, 79.45, 93.35, 85.41, 95.34, 82.43, 90.37, 81.43, 100.0, 89.38, 100.0, 100.0, 91.37, 86.61, 71.89, 100.0, 100.0, 95.48, 100.0, 90.37, 61.44, 59.22, 85.13, 85.87, 85.87, 82.91, 76.25, 63.67, 70.33, 74.03, 72.55, 62.19, 71.07, 72.55, 64.41, 86.62, 68.11, 62.19, 85.87, 57.86, 75.51, 100.0, 55.62, 86.4, 87.36, 72.55, 62.19, 52.64, 48.17, 41.71, 50.65, 49.16, 41.71, 51.15, 52.14, 41.71, 44.69, 45.69, 57.61, 57.11, 58.6, 57.61, 45.19, 53.63, 43.7, 86.13, 76.31, 52.64, 95.2, 64.97, 87.15, 40.22, 56.12, 57.61, 56.78, 43.68, 64.97, 44.23, 60.06, 48.59, 50.23, 64.43, 50.23, 63.88, 63.34, 49.69, 65.52, 50.78, 45.86, 51.32, 60.06, 59.51, 55.69, 86.74, 97.16, 100.0, 100.0, 100.0, 62.24, 65.52]\n"
          ],
          "name": "stdout"
        }
      ]
    },
    {
      "cell_type": "code",
      "metadata": {
        "id": "LGg9ZzocSKTI",
        "outputId": "789f9dd3-4d8c-48bd-952a-785404a40a80",
        "colab": {
          "base_uri": "https://localhost:8080/",
          "height": 336
        }
      },
      "source": [
        "# look at the data to see properties, like normality:\n",
        "\n",
        "from matplotlib import pyplot\n",
        "import statistics\n",
        "\n",
        "pyplot.hist(numbers)\n",
        "pyplot.show()\n",
        "\n",
        "mean = statistics.mean(numbers)\n",
        "std = statistics.stdev(numbers)\n",
        "median = statistics.median(numbers)\n",
        "print(\"Mean: \", mean)\n",
        "print(\"Standard Deviation: \", std)\n",
        "\n",
        "\n",
        "# is mean greater then median?\n",
        "if mean <= median:\n",
        "  print(\"The mean is not greateer then the median. Your distribution might be\" + \n",
        "        \"off; Benford's Law might not apply...\")\n"
      ],
      "execution_count": 113,
      "outputs": [
        {
          "output_type": "display_data",
          "data": {
            "image/png": "[encoded data removed]",
            "text/plain": [
              "<Figure size 432x288 with 1 Axes>"
            ]
          },
          "metadata": {
            "tags": [],
            "needs_background": "light"
          }
        },
        {
          "output_type": "stream",
          "text": [
            "Mean:  83.65854410201914\n",
            "Standard Deviation:  20.17427652784056\n",
            "The mean is not greateer then the median. Your distribution might beoff; Benford's Law might not apply...\n"
          ],
          "name": "stdout"
        }
      ]
    },
    {
      "cell_type": "code",
      "metadata": {
        "id": "YL7k6QLWJ2PN",
        "outputId": "b142ea05-3892-4fbe-9ed7-ba62adf6c05f",
        "colab": {
          "base_uri": "https://localhost:8080/",
          "height": 54
        }
      },
      "source": [
        "# process the raw list:\n",
        "sig_list = ([x // (10**math.floor(math.log10(x))) for x in numbers])\n",
        "print(sig_list[0:50])\n",
        "\n",
        "# get Benford probabilities:\n",
        "def benford (digit):\n",
        "  return math.log10((digit + 1)/ digit)\n"
      ],
      "execution_count": 114,
      "outputs": [
        {
          "output_type": "stream",
          "text": [
            "[9.0, 8.0, 9.0, 8.0, 1.0, 9.0, 8.0, 1.0, 9.0, 1.0, 1.0, 1.0, 1.0, 1.0, 9.0, 1.0, 1.0, 1.0, 9.0, 1.0, 1.0, 7.0, 3.0, 7.0, 1.0, 1.0, 1.0, 1.0, 1.0, 1.0, 1.0, 1.0, 1.0, 1.0, 1.0, 1.0, 1.0, 1.0, 1.0, 1.0, 1.0, 1.0, 1.0, 1.0, 1.0, 1.0, 1.0, 1.0, 1.0, 1.0]\n"
          ],
          "name": "stdout"
        }
      ]
    },
    {
      "cell_type": "code",
      "metadata": {
        "id": "KLFWYBc9Mg4-",
        "outputId": "4730c2b8-74e3-4c0c-ebee-46487f5c6fd7",
        "colab": {
          "base_uri": "https://localhost:8080/",
          "height": 241
        }
      },
      "source": [
        "# calculate meta-statistics:\n",
        "\n",
        "actual_freqs = Counter(sig_list)\n",
        "print(actual_freqs)\n",
        "\n",
        "limit = len(numbers)\n",
        "print(limit)\n",
        "\n",
        "predicted = []\n",
        "for i in range(1, 10):\n",
        "  pred_num = benford(i) * limit\n",
        "  predicted.append(round(pred_num, 4))\n",
        "\n",
        "benford_list = [1,2,3,4,5,6,7,8,9]\n",
        "\n",
        "predicted_freqs = dict(zip(benford_list, predicted))\n",
        "\n",
        "df = pd.DataFrame({'Predicted Values':pd.Series(predicted_freqs),'Actual Values':pd.Series(actual_freqs)})\n",
        "\n",
        "\n",
        "# df[\"Predicted Proportion\"] = df['Predicted Values'] / limit\n",
        "# df[\"Actual Proportion\"] = df['Actual Values'] / limit\n",
        "\n",
        "df[\"Predicted Percent\"] = (df['Predicted Values'] / limit) * 100\n",
        "df[\"Actual Percent\"] = (df['Actual Values']  / limit) * 100\n",
        "\n",
        "\n",
        "print(df)\n",
        "\n",
        "actual_props = list(df[\"Predicted Percent\"])\n",
        "predicted_props = list(df[\"Actual Percent\"])\n"
      ],
      "execution_count": 115,
      "outputs": [
        {
          "output_type": "stream",
          "text": [
            "Counter({1.0: 1304, 8.0: 287, 6.0: 275, 7.0: 265, 9.0: 230, 5.0: 210, 4.0: 150, 3.0: 91, 2.0: 11})\n",
            "2823\n",
            "     Predicted Values  Actual Values  Predicted Percent  Actual Percent\n",
            "1.0          849.8077           1304          30.103000       46.191994\n",
            "2.0          497.1056             11          17.609125        0.389656\n",
            "3.0          352.7021             91          12.493875        3.223521\n",
            "4.0          273.5770            150           9.691002        5.313496\n",
            "5.0          223.5287            210           7.918126        7.438895\n",
            "6.0          188.9908            275           6.694679        9.741410\n",
            "7.0          163.7113            265           5.799196        9.387177\n",
            "8.0          144.4036            287           5.115253       10.166490\n",
            "9.0          129.1734            230           4.575749        8.147361\n"
          ],
          "name": "stdout"
        }
      ]
    },
    {
      "cell_type": "code",
      "metadata": {
        "id": "Z3V5PxrXP7PS",
        "outputId": "db50290e-a897-44ea-a61d-e8c4d3cfec54",
        "colab": {
          "base_uri": "https://localhost:8080/",
          "height": 34
        }
      },
      "source": [
        "# create test statistic:\n",
        "chi_squared = 0\n",
        "for i in range(0,9):\n",
        "  error = ((actual_props[i] - predicted_props[i]) ** 2) / predicted_props[i]\n",
        "  chi_squared  = chi_squared + error\n",
        "\n",
        "print(chi_squared)"
      ],
      "execution_count": 116,
      "outputs": [
        {
          "output_type": "stream",
          "text": [
            "803.2537652355268\n"
          ],
          "name": "stdout"
        }
      ]
    },
    {
      "cell_type": "code",
      "metadata": {
        "id": "rg7nlw1AReGz",
        "outputId": "1412cf1a-4f68-496d-915e-74317e06d578",
        "colab": {
          "base_uri": "https://localhost:8080/",
          "height": 105
        }
      },
      "source": [
        "# conduct actual hypthesis test:\n",
        "# H0: All digits 1-9 Conform to the predicted Benford's Law Proportion\n",
        "# H1: At least 1 digit does not conform to the predictions.\n",
        "\n",
        "\n",
        "dof = 8\n",
        "\n",
        "value = 1 - stats.chi2.cdf(chi_squared, dof)\n",
        "print( \"P value: \" ,value)\n",
        "print( \"Alpha: \" , 0.05)\n",
        "\n",
        "\n",
        "if value < 0.05:\n",
        "  print(\"Results are significant at this Alpha Level (0.05). \\nThis indicates \" + \n",
        "        \"very strong evidence that Benford's Law is NOT obeyed. H0 is rejected.\")\n",
        "else:\n",
        "  print(\"Results are not statistically significant. \\nThis indicates \" + \n",
        "        \"very strong evidence that Benford's Law IS obeyed. Fail to reject H0.\")"
      ],
      "execution_count": 117,
      "outputs": [
        {
          "output_type": "stream",
          "text": [
            "P value:  0.0\n",
            "Alpha:  0.05\n",
            "Results are significant at this Alpha Level (0.05). \n",
            "This indicates very strong evidence that Benford's Law is NOT obeyed. H0 is rejected.\n"
          ],
          "name": "stdout"
        }
      ]
    },
    {
      "cell_type": "markdown",
      "metadata": {
        "id": "6KYZLy_2gFHc"
      },
      "source": [
        "**History of Data Tested so Far:**\n",
        "\n",
        "-- Dataset | Column | Chi-Squre Value | p-Value | Result -- \n",
        "\n",
        "1) NYC Property Sales, SALE PRICE, 6.0326, 0.64357, **Obeys**\n",
        "\n",
        "2) Video Game Sales, NA_Sales, 28.801, 0.00034, **Does not Obey**\n",
        "\n",
        "3) Video Game Sales, EU_Sales, 66.899, 2.029E-11, **Does not Obey**\n",
        "\n",
        "4) Video Game Sales, JP_Sales, 81.6581, 2.264E-14, **Does not Obey**\n",
        "\n",
        "5) Sample Sales Data, SALES, 30.505, 1.721E-4, **Does not Obey**\n",
        "\n",
        "6) Sample Sales Data, QUANTITYORDERED, 2999.20, 0.0, **Does not Obey**\n",
        "\n",
        "6) Sample Sales Data, PRICEEACH, 803.25, 0.0, **Does not Obey**\n",
        "\n",
        "\n",
        "**Links to Datasets:**\n",
        "\n",
        "1) https://www.kaggle.com/new-york-city/nyc-property-sales\n",
        "\n",
        "2, 3, 4) https://www.kaggle.com/gregorut/videogamesales\n",
        "\n",
        "5, 6, 7) https://www.kaggle.com/kyanyoga/sample-sales-data\n"
      ]
    }
  ]
}